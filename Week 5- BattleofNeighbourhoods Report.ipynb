{
 "cells": [
  {
   "cell_type": "markdown",
   "metadata": {},
   "source": [
    "## __Capstone Project - The Battle of Neighborhoods__"
   ]
  },
  {
   "cell_type": "markdown",
   "metadata": {},
   "source": [
    "### A PIECE OF ART IN THE CAPITAL CITIES OF ALL COUNTRIES"
   ]
  },
  {
   "cell_type": "markdown",
   "metadata": {},
   "source": [
    "### __INTRODUCTION__"
   ]
  },
  {
   "cell_type": "markdown",
   "metadata": {},
   "source": [
    "The aim of this capstone project will be to find out what kind of business should be set up in a given\n",
    "city. This project will be done by collecting data about the different neighbourhoods in that\n",
    "particular city as well as the kinds of businesses that exist in that particular area.\n",
    "This data will be used to determine what kind of business should be set up, such that it will be\n",
    "profitable."
   ]
  },
  {
   "cell_type": "markdown",
   "metadata": {},
   "source": [
    "### __DATA__"
   ]
  },
  {
   "cell_type": "markdown",
   "metadata": {},
   "source": [
    "The data will consist of the different neighbourhoods in a given city, the different kinds of\n",
    "businesses that exist in that city, their ratings, the category that the particular business belongs to as\n",
    "well as the addresses of the different businesses. Latitude and longitude will be included in the\n",
    "address column.\n",
    "This data will be collected using the Foursquare API."
   ]
  },
  {
   "cell_type": "markdown",
   "metadata": {},
   "source": [
    "### __METHODOLOGY__"
   ]
  },
  {
   "cell_type": "markdown",
   "metadata": {},
   "source": [
    "This project has been done using the basic skills obtained from the assignment given in week 3. Foursquare API was used to get data about the venues of neighbourhoods, then they were grouped by each neighbourhoods.  Top 10 venues filtered per neighbourhood. "
   ]
  },
  {
   "cell_type": "markdown",
   "metadata": {},
   "source": [
    "### __RESULT__"
   ]
  },
  {
   "cell_type": "markdown",
   "metadata": {},
   "source": [
    "The resulting map is as follows:"
   ]
  },
  {
   "cell_type": "markdown",
   "metadata": {},
   "source": [
    "<img src=\"DBSCAN.PNG\">"
   ]
  },
  {
   "cell_type": "markdown",
   "metadata": {},
   "source": [
    "It can be seen that there are two dominant clusters with red and orange marks. So, going to these places will offer somehow similar taste to their visitors. However other colors will serve different taste in terms of art venues."
   ]
  },
  {
   "cell_type": "markdown",
   "metadata": {},
   "source": [
    "### __DISCUSSION__"
   ]
  },
  {
   "cell_type": "markdown",
   "metadata": {},
   "source": [
    "• Providence has more venues than Hartford (512 vs 460)"
   ]
  },
  {
   "cell_type": "markdown",
   "metadata": {},
   "source": [
    "• Federal Hill is a good area for business in Providence"
   ]
  },
  {
   "cell_type": "markdown",
   "metadata": {},
   "source": [
    "• Downtown is a good area for business in Hartford"
   ]
  },
  {
   "cell_type": "markdown",
   "metadata": {},
   "source": [
    "• Small eateries, bars, etc are popular in Providence\n"
   ]
  },
  {
   "cell_type": "markdown",
   "metadata": {},
   "source": [
    "• Hartford is very commercial"
   ]
  },
  {
   "cell_type": "markdown",
   "metadata": {},
   "source": [
    "### __CONCLUSION__"
   ]
  },
  {
   "cell_type": "markdown",
   "metadata": {},
   "source": [
    "For example if a person wants to set up a theatre business they can go to the purple cities. E.g Dublin"
   ]
  },
  {
   "cell_type": "code",
   "execution_count": null,
   "metadata": {},
   "outputs": [],
   "source": []
  }
 ],
 "metadata": {
  "kernelspec": {
   "display_name": "Python 3",
   "language": "python",
   "name": "python3"
  },
  "language_info": {
   "codemirror_mode": {
    "name": "ipython",
    "version": 3
   },
   "file_extension": ".py",
   "mimetype": "text/x-python",
   "name": "python",
   "nbconvert_exporter": "python",
   "pygments_lexer": "ipython3",
   "version": "3.7.4"
  }
 },
 "nbformat": 4,
 "nbformat_minor": 2
}
